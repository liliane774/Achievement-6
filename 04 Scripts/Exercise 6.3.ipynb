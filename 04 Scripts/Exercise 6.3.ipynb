{
 "cells": [
  {
   "cell_type": "markdown",
   "id": "e23c9f7a-07a6-49e0-9906-7fb5d99b5e0d",
   "metadata": {},
   "source": [
    "# 1. Import Libraries\n"
   ]
  },
  {
   "cell_type": "code",
   "execution_count": 928,
   "id": "4ba1f084-a061-4f6e-9d8a-3c5aa83c5c42",
   "metadata": {},
   "outputs": [],
   "source": [
    "import pandas as pd\n",
    "import numpy as np\n",
    "import seaborn as sns\n",
    "import matplotlib.pyplot as plt\n",
    "import os\n",
    "import folium\n",
    "import json\n",
    "import geopandas as gpd\n",
    "import requests\n",
    "import geoplot as gplt\n",
    "import plotly.express as px"
   ]
  },
  {
   "cell_type": "markdown",
   "id": "263d5a99-df25-4b3e-a330-fe9000ee55eb",
   "metadata": {},
   "source": [
    "# 2. Import Dataframes"
   ]
  },
  {
   "cell_type": "code",
   "execution_count": 930,
   "id": "6d96933e-3f6e-460a-8efc-56fda5949ca3",
   "metadata": {},
   "outputs": [
    {
     "data": {
      "text/html": [
       "<div>\n",
       "<style scoped>\n",
       "    .dataframe tbody tr th:only-of-type {\n",
       "        vertical-align: middle;\n",
       "    }\n",
       "\n",
       "    .dataframe tbody tr th {\n",
       "        vertical-align: top;\n",
       "    }\n",
       "\n",
       "    .dataframe thead th {\n",
       "        text-align: right;\n",
       "    }\n",
       "</style>\n",
       "<table border=\"1\" class=\"dataframe\">\n",
       "  <thead>\n",
       "    <tr style=\"text-align: right;\">\n",
       "      <th></th>\n",
       "      <th>Region</th>\n",
       "      <th>Country</th>\n",
       "      <th>State</th>\n",
       "      <th>City</th>\n",
       "      <th>Month</th>\n",
       "      <th>Day</th>\n",
       "      <th>Year</th>\n",
       "      <th>AvgTemperature</th>\n",
       "    </tr>\n",
       "  </thead>\n",
       "  <tbody>\n",
       "    <tr>\n",
       "      <th>0</th>\n",
       "      <td>Africa</td>\n",
       "      <td>Algeria</td>\n",
       "      <td>NaN</td>\n",
       "      <td>Algiers</td>\n",
       "      <td>1.0</td>\n",
       "      <td>1.0</td>\n",
       "      <td>1995.0</td>\n",
       "      <td>64.2</td>\n",
       "    </tr>\n",
       "    <tr>\n",
       "      <th>1</th>\n",
       "      <td>Africa</td>\n",
       "      <td>Algeria</td>\n",
       "      <td>NaN</td>\n",
       "      <td>Algiers</td>\n",
       "      <td>1.0</td>\n",
       "      <td>2.0</td>\n",
       "      <td>1995.0</td>\n",
       "      <td>49.4</td>\n",
       "    </tr>\n",
       "    <tr>\n",
       "      <th>2</th>\n",
       "      <td>Africa</td>\n",
       "      <td>Algeria</td>\n",
       "      <td>NaN</td>\n",
       "      <td>Algiers</td>\n",
       "      <td>1.0</td>\n",
       "      <td>3.0</td>\n",
       "      <td>1995.0</td>\n",
       "      <td>48.8</td>\n",
       "    </tr>\n",
       "    <tr>\n",
       "      <th>3</th>\n",
       "      <td>Africa</td>\n",
       "      <td>Algeria</td>\n",
       "      <td>NaN</td>\n",
       "      <td>Algiers</td>\n",
       "      <td>1.0</td>\n",
       "      <td>4.0</td>\n",
       "      <td>1995.0</td>\n",
       "      <td>46.4</td>\n",
       "    </tr>\n",
       "    <tr>\n",
       "      <th>4</th>\n",
       "      <td>Africa</td>\n",
       "      <td>Algeria</td>\n",
       "      <td>NaN</td>\n",
       "      <td>Algiers</td>\n",
       "      <td>1.0</td>\n",
       "      <td>5.0</td>\n",
       "      <td>1995.0</td>\n",
       "      <td>47.9</td>\n",
       "    </tr>\n",
       "  </tbody>\n",
       "</table>\n",
       "</div>"
      ],
      "text/plain": [
       "   Region  Country  State     City  Month  Day    Year  AvgTemperature\n",
       "0  Africa  Algeria    NaN  Algiers    1.0  1.0  1995.0            64.2\n",
       "1  Africa  Algeria    NaN  Algiers    1.0  2.0  1995.0            49.4\n",
       "2  Africa  Algeria    NaN  Algiers    1.0  3.0  1995.0            48.8\n",
       "3  Africa  Algeria    NaN  Algiers    1.0  4.0  1995.0            46.4\n",
       "4  Africa  Algeria    NaN  Algiers    1.0  5.0  1995.0            47.9"
      ]
     },
     "execution_count": 930,
     "metadata": {},
     "output_type": "execute_result"
    }
   ],
   "source": [
    "# Import \".json\" file for the U.S. \n",
    "\n",
    "cityTemp_path ='/Users/ryumugil/Downloads/Achievement 6 Analysis'\n",
    "\n",
    "column_list = ['Region', 'Country', 'State', 'Month', 'Day', 'Year', 'AvgTemperature']\n",
    "df_cityTemp_clean = pd.read_csv(os.path.join(cityTemp_path, '02 Data', 'Original Data', 'city_temperature_cleaned.csv'))\n",
    "df_cityTemp_clean.head()"
   ]
  },
  {
   "cell_type": "markdown",
   "id": "6b038174-8f09-4dec-8644-a3c2f129110c",
   "metadata": {},
   "source": [
    "# 3. Wrangle Data"
   ]
  },
  {
   "cell_type": "markdown",
   "id": "656e727e-10c3-4648-9b68-d028a1b8aac7",
   "metadata": {},
   "source": [
    "2. Find a JSON/GeoJSONfile containing location data that corresponds to the location data in your student project data (or use this one if your analysis is about the US). We’ve listed a few suggestions to get you started:\n",
    "\n",
    "Datahub—country polygons as GeoJSON;"
   ]
  },
  {
   "cell_type": "code",
   "execution_count": null,
   "id": "c7a37f42-633f-4811-aa2d-cc38922a318b",
   "metadata": {},
   "outputs": [],
   "source": [
    "# Clean the temperature data: Remove rows with invalid temperature values (e.g., -99)\n",
    "df_cityTemp_clean = df_cityTemp_clean[df_cityTemp_clean['AvgTemperature'] != -99].dropna(subset=['Country', 'AvgTemperature'])\n",
    "df_cityTemp_clean['AvgTemperature'] = pd.to_numeric(df_cityTemp_clean['AvgTemperature'], errors='coerce')\n",
    "df_cityTemp_clean = df_cityTemp_clean.dropna(subset=['AvgTemperature'])\n",
    "\n",
    "# Load the Country Polygons as GeoJSON from Datahub\n",
    "geojson_url = 'https://datahub.io/core/geo-countries/r/countries.geojson' # original from the internet where data is downloaded from\n",
    "new_country_geo_filepath = '/Users/ryumugil/Downloads/Achievement 6 Analysis/02 Data/Original Data/countries_downloaded.geojson' # new data downloaded and saved in this\n",
    "manual_country_geo_filepath ='/Users/ryumugil/Downloads/Achievement 6 Analysis/02 Data/Original Data/countries.geojson' # manually downloaded geo data file. \n",
    "\n",
    "# try to downlosd from the internet using this url -> geojson_url. \n",
    "# If an error happens downloading, reading or writing to this path new_country_geo_filepath; then code in the `except` section with run!\n",
    "try:\n",
    "    # Attempt to download and save the GeoJSON\n",
    "    response = requests.get(geojson_url)\n",
    "    if response.status_code == 200: # if status is 200, it means successfully downloaded from internet\n",
    "        with open(new_country_geo_filepath, 'wb') as f: # if this file -> new_country_geo_filepath exists and we can write(wb) to it\n",
    "            f.write(response.content) # write content from the the downloaded file into the `new_country_geo_filepath` file\n",
    "        print(\"GeoJSON downloaded and loaded successfully.\")\n",
    "    else:\n",
    "        raise Exception(f\"Failed to download GeoJSON, status code: {response.status_code}\") # if error happened above, print the message\n",
    "except Exception as e: # if we are here, it means some error happened in the `try` above. Then just load data from the manually downloaded file manual_country_geo_filepath\n",
    "    print(f\"Error downloading GeoJSON from URL: {e}\")\n",
    "    # Fallback to a local file or alternative source\n",
    "    if os.path.exists(manual_country_geo_filepath):\n",
    "        world = gpd.read_file(manual_country_geo_filepath)\n",
    "        print(\"Loaded GeoJSON from local file.\")\n",
    "    else:\n",
    "        raise FileNotFoundError(\"No local GeoJSON file found. Please download manually from https://datahub.io/core/geo-countries/r/countries.geojson.\")\n",
    "\n",
    "# Normalize GeoJSON country names\n",
    "world['name'] = world['name'].str.strip().str.lower()\n",
    "\n",
    "# Merge temperature data with GeoJSON data\n",
    "merged_data = world.merge(df_cityTemp_clean, left_on='name', right_on='Country', how='left')\n",
    "\n",
    "# Handle unmatched countries by filling NaN with a default value for plotting\n",
    "merged_data['AvgTemperature'] = merged_data['AvgTemperature'].fillna(0)  # Use 0 for unmatched, adjust as needed\n",
    "\n",
    "# Check the merged dataset\n",
    "print(\"Merged dataset head:\\n\", merged_data.head())\n",
    "print(\"Countries with temperature data:\\n\", merged_data['name'][merged_data['AvgTemperature'] > 0].unique())\n",
    "\n",
    "# Basic plot to verify GeoJSON\n",
    "world.plot()\n",
    "plt.title('World Map from GeoJSON (Verification)')\n",
    "plt.show()"
   ]
  },
  {
   "cell_type": "code",
   "execution_count": null,
   "id": "bbcb0d52-0a21-4268-9373-6ff3dd3199ef",
   "metadata": {},
   "outputs": [],
   "source": [
    "new_country_geo_filepath = '/Users/ryumugil/Downloads/Achievement 6 Analysis/02 Data/Original Data/countries_downloaded.geojson' # new data downloaded and saved in this\n",
    "new_country_geo = gpd.read_file(new_country_geo_filepath)\n",
    "new_country_geo.head()"
   ]
  },
  {
   "cell_type": "code",
   "execution_count": null,
   "id": "904f38ec-a2c2-4b24-a306-a8a49e811d4a",
   "metadata": {},
   "outputs": [],
   "source": [
    "new_country_geo.dtypes"
   ]
  },
  {
   "cell_type": "code",
   "execution_count": null,
   "id": "19389e39-6c9a-4799-b790-16b635ca3447",
   "metadata": {},
   "outputs": [],
   "source": [
    "# Check for null values\n",
    "new_country_geo.isnull().sum()"
   ]
  },
  {
   "cell_type": "code",
   "execution_count": null,
   "id": "f5bcb32a-3269-4053-9c2a-0943a80b8ce1",
   "metadata": {},
   "outputs": [],
   "source": [
    "# Check for null or empty geometries\n",
    "world = world.dropna(subset=['geometry'])"
   ]
  },
  {
   "cell_type": "code",
   "execution_count": null,
   "id": "bbd3b345-f65f-4370-830d-3c6e7f10609b",
   "metadata": {},
   "outputs": [],
   "source": [
    "# Remove rows with missing or invalid country names\n",
    "world = world.dropna(subset=['name'])\n",
    "world['name'] = world['name'].str.strip().str.lower()  # Standardize to lowercase\n",
    "world['ISO3166-1-Alpha-3'] = world['ISO3166-1-Alpha-3'].str.strip().str.upper()  # Standardize ISO codes"
   ]
  },
  {
   "cell_type": "code",
   "execution_count": null,
   "id": "90c35835-43c9-43d2-ad59-865d4ab31d71",
   "metadata": {},
   "outputs": [],
   "source": [
    "# Remove duplicates based on 'name' and 'ISO3166-1-Alpha-3'\n",
    "world = world.drop_duplicates(subset=['name', 'ISO3166-1-Alpha-3'], keep='first')\n"
   ]
  },
  {
   "cell_type": "code",
   "execution_count": null,
   "id": "6ebf3b49-2770-4c04-b6ba-85bdcb06e31e",
   "metadata": {},
   "outputs": [],
   "source": [
    "# Save the cleaned GeoJSON\n",
    "Cleaned_new_country_geo_path = 'cleaned_countries.geojson'\n",
    "world.to_file(Cleaned_new_country_geo_path, driver='GeoJSON')\n",
    "print(f\"Cleaned GeoJSON saved as '{Cleaned_new_country_geo_path}'.\")"
   ]
  },
  {
   "cell_type": "markdown",
   "id": "1a75a645-64f9-4a8a-8ca3-9c78a072b8a2",
   "metadata": {},
   "source": [
    "# 4. Create Choropleth"
   ]
  },
  {
   "cell_type": "code",
   "execution_count": null,
   "id": "267902e7-1d66-4807-9d51-d5f1ea2c574a",
   "metadata": {},
   "outputs": [],
   "source": [
    "# Clean and standardize country names for merging\n",
    "df_cityTemp_clean['Country'] = df_cityTemp_clean['Country'].str.strip().str.lower()\n",
    "world['name'] = world['name'].str.strip().str.lower()\n",
    "\n",
    "# Merge temperature data with GeoJSON\n",
    "merged_data = world.merge(df_cityTemp_clean, left_on='name', right_on='Country', how='left')\n",
    "\n",
    "# Fill NaN values with 0 for countries without temperature data\n",
    "merged_data['AvgTemperature'] = merged_data['AvgTemperature'].fillna(0)\n",
    "\n",
    "# Convert GeoDataFrame to a format compatible with Plotly (ensure geometry is handled)\n",
    "merged_data = merged_data.to_crs(epsg=4326)  # WGS84 for web mapping\n",
    "merged_data = merged_data.drop(columns=['geometry'])  # Drop geometry for Plotly, use GeoJSON source\n",
    "\n",
    "# Create the choropleth map with Plotly\n",
    "fig = px.choropleth_mapbox(\n",
    "    merged_data,\n",
    "    geojson=world.__geo_interface__,  # Use the original GeoJSON geometry\n",
    "    locations=merged_data.index,\n",
    "    color='AvgTemperature',\n",
    "    color_continuous_scale='YlOrRd',  # Yellow to Red colormap\n",
    "    range_color=[0, 30],  # Adjust range based on expected temperature (0°C to 30°C)\n",
    "    title='Choropleth Map of Average Temperature by Country',\n",
    "    hover_data=['name', 'AvgTemperature'],\n",
    "    mapbox_style=\"carto-positron\",\n",
    "    center={\"lat\": 0, \"lon\": 0},  # Center on world\n",
    "    zoom=1,\n",
    "    opacity=0.7,\n",
    "    labels={'AvgTemperature': 'Avg Temp (°C)'}\n",
    ")\n",
    "\n",
    "# Update layout for better presentation\n",
    "fig.update_layout(\n",
    "    margin={\"r\":0,\"t\":40,\"l\":0,\"b\":0},\n",
    "    coloraxis_colorbar_title=\"Avg Temp (°C)\"\n",
    ")\n",
    "\n",
    "# Add a note about data coverage\n",
    "fig.add_annotation(\n",
    "    text=\"Note: 0°C indicates no temperature data for that country\",\n",
    "    xref=\"paper\", yref=\"paper\",\n",
    "    x=0.02, y=0.02,\n",
    "    showarrow=False,\n",
    "    font=dict(size=12),\n",
    "    bgcolor=\"white\", opacity=0.8\n",
    ")\n",
    "\n"
   ]
  },
  {
   "cell_type": "markdown",
   "id": "80b41dfb-1beb-4dbb-8f3a-157b57d459a6",
   "metadata": {},
   "source": [
    "# Discuss the results and what they mean in a markdown section."
   ]
  },
  {
   "cell_type": "markdown",
   "id": "3168f39f-fec9-4d47-9c13-7f201cdeca84",
   "metadata": {},
   "source": [
    "Yes, answers the question which was \"Are there differences in temperature patterns between regions\"? by using the choropleth map to visualize average temperatures across countries, highlighting regional variations (e.g., warmer in Africa, cooler in Europe) based on the merged temperature and GeoJSON data."
   ]
  },
  {
   "cell_type": "markdown",
   "id": "bf639d98-27bb-4443-bea9-d49b6fabbdf0",
   "metadata": {},
   "source": [
    "Yes,the analysis raises new questions, such as: \"What factors (e.g., latitude, altitude) explain the temperature variations observed across regions?\" and \"How have temperature patterns changed over the 1995–2020 period in underrepresented regions?\" "
   ]
  },
  {
   "cell_type": "code",
   "execution_count": null,
   "id": "0f369f1c-1fa8-45c3-a7c1-7e44bf062861",
   "metadata": {},
   "outputs": [],
   "source": [
    "# Save the map as an HTML file\n",
    "output_html = 'choropleth_temperature_map.html'\n",
    "fig.write_html(output_html, include_plotlyjs='cdn')  # Use CDN for smaller file size\n"
   ]
  },
  {
   "cell_type": "code",
   "execution_count": null,
   "id": "aacd166d-08f1-4b67-a438-98cc95151c4c",
   "metadata": {},
   "outputs": [],
   "source": []
  }
 ],
 "metadata": {
  "kernelspec": {
   "display_name": "Python [conda env:base] *",
   "language": "python",
   "name": "conda-base-py"
  },
  "language_info": {
   "codemirror_mode": {
    "name": "ipython",
    "version": 3
   },
   "file_extension": ".py",
   "mimetype": "text/x-python",
   "name": "python",
   "nbconvert_exporter": "python",
   "pygments_lexer": "ipython3",
   "version": "3.12.7"
  }
 },
 "nbformat": 4,
 "nbformat_minor": 5
}
