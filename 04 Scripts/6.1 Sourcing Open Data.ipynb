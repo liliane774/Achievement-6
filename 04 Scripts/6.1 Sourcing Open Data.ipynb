{
 "cells": [
  {
   "cell_type": "code",
   "execution_count": 160,
   "id": "e5fd2f94-251a-4da9-8036-f5fb5e4c2249",
   "metadata": {},
   "outputs": [],
   "source": [
    "# Import Libraries\n",
    "import pandas as pd\n",
    "import numpy as np\n",
    "import os\n",
    "\n",
    "#cityTemp_path = '/Users/ryumugil/Downloads'\n",
    "#cols_list = ['Region', 'Country', 'State', 'City', 'Month', 'Day', 'Year', 'AvgTemperature']\n",
    "#df_cityTemp = pd.read_csv(os.path.join(cityTemp_path, 'city_temperature.csv'))"
   ]
  },
  {
   "cell_type": "markdown",
   "id": "69d1e398-f821-47a5-90f8-d4e5aa270cc7",
   "metadata": {},
   "source": [
    "Finding Missing values"
   ]
  },
  {
   "cell_type": "code",
   "execution_count": 162,
   "id": "b32af93a-9e0f-4462-8326-751a01d13a17",
   "metadata": {},
   "outputs": [
    {
     "data": {
      "text/plain": [
       "Region            0\n",
       "Country           0\n",
       "State             0\n",
       "City              0\n",
       "Month             0\n",
       "Day               0\n",
       "Year              0\n",
       "AvgTemperature    0\n",
       "dtype: int64"
      ]
     },
     "execution_count": 162,
     "metadata": {},
     "output_type": "execute_result"
    }
   ],
   "source": [
    "df_cityTemp.isnull().sum()"
   ]
  },
  {
   "cell_type": "code",
   "execution_count": 163,
   "id": "850addd6-8bec-4bff-b1c3-592d402b4bcd",
   "metadata": {},
   "outputs": [
    {
     "data": {
      "text/html": [
       "<div>\n",
       "<style scoped>\n",
       "    .dataframe tbody tr th:only-of-type {\n",
       "        vertical-align: middle;\n",
       "    }\n",
       "\n",
       "    .dataframe tbody tr th {\n",
       "        vertical-align: top;\n",
       "    }\n",
       "\n",
       "    .dataframe thead th {\n",
       "        text-align: right;\n",
       "    }\n",
       "</style>\n",
       "<table border=\"1\" class=\"dataframe\">\n",
       "  <thead>\n",
       "    <tr style=\"text-align: right;\">\n",
       "      <th></th>\n",
       "      <th>Region</th>\n",
       "      <th>Country</th>\n",
       "      <th>State</th>\n",
       "      <th>City</th>\n",
       "      <th>Month</th>\n",
       "      <th>Day</th>\n",
       "      <th>Year</th>\n",
       "      <th>AvgTemperature</th>\n",
       "    </tr>\n",
       "  </thead>\n",
       "  <tbody>\n",
       "    <tr>\n",
       "      <th>1450990</th>\n",
       "      <td>North America</td>\n",
       "      <td>US</td>\n",
       "      <td>Alabama</td>\n",
       "      <td>Birmingham</td>\n",
       "      <td>1</td>\n",
       "      <td>1</td>\n",
       "      <td>1995</td>\n",
       "      <td>50.7</td>\n",
       "    </tr>\n",
       "    <tr>\n",
       "      <th>1450991</th>\n",
       "      <td>North America</td>\n",
       "      <td>US</td>\n",
       "      <td>Alabama</td>\n",
       "      <td>Birmingham</td>\n",
       "      <td>1</td>\n",
       "      <td>2</td>\n",
       "      <td>1995</td>\n",
       "      <td>37.2</td>\n",
       "    </tr>\n",
       "    <tr>\n",
       "      <th>1450992</th>\n",
       "      <td>North America</td>\n",
       "      <td>US</td>\n",
       "      <td>Alabama</td>\n",
       "      <td>Birmingham</td>\n",
       "      <td>1</td>\n",
       "      <td>3</td>\n",
       "      <td>1995</td>\n",
       "      <td>33.2</td>\n",
       "    </tr>\n",
       "    <tr>\n",
       "      <th>1450993</th>\n",
       "      <td>North America</td>\n",
       "      <td>US</td>\n",
       "      <td>Alabama</td>\n",
       "      <td>Birmingham</td>\n",
       "      <td>1</td>\n",
       "      <td>4</td>\n",
       "      <td>1995</td>\n",
       "      <td>33.3</td>\n",
       "    </tr>\n",
       "    <tr>\n",
       "      <th>1450994</th>\n",
       "      <td>North America</td>\n",
       "      <td>US</td>\n",
       "      <td>Alabama</td>\n",
       "      <td>Birmingham</td>\n",
       "      <td>1</td>\n",
       "      <td>5</td>\n",
       "      <td>1995</td>\n",
       "      <td>26.4</td>\n",
       "    </tr>\n",
       "  </tbody>\n",
       "</table>\n",
       "</div>"
      ],
      "text/plain": [
       "                Region Country    State        City  Month  Day  Year  \\\n",
       "1450990  North America      US  Alabama  Birmingham      1    1  1995   \n",
       "1450991  North America      US  Alabama  Birmingham      1    2  1995   \n",
       "1450992  North America      US  Alabama  Birmingham      1    3  1995   \n",
       "1450993  North America      US  Alabama  Birmingham      1    4  1995   \n",
       "1450994  North America      US  Alabama  Birmingham      1    5  1995   \n",
       "\n",
       "         AvgTemperature  \n",
       "1450990            50.7  \n",
       "1450991            37.2  \n",
       "1450992            33.2  \n",
       "1450993            33.3  \n",
       "1450994            26.4  "
      ]
     },
     "execution_count": 163,
     "metadata": {},
     "output_type": "execute_result"
    }
   ],
   "source": [
    "df_cityTemp.head()"
   ]
  },
  {
   "cell_type": "markdown",
   "id": "62f63c32-9b62-4d3f-8770-b1e3d36c5465",
   "metadata": {},
   "source": [
    "Finding Missing values"
   ]
  },
  {
   "cell_type": "code",
   "execution_count": 165,
   "id": "3f55a5eb-5b71-4c83-bbdb-22317f3485be",
   "metadata": {},
   "outputs": [
    {
     "data": {
      "text/html": [
       "<div>\n",
       "<style scoped>\n",
       "    .dataframe tbody tr th:only-of-type {\n",
       "        vertical-align: middle;\n",
       "    }\n",
       "\n",
       "    .dataframe tbody tr th {\n",
       "        vertical-align: top;\n",
       "    }\n",
       "\n",
       "    .dataframe thead th {\n",
       "        text-align: right;\n",
       "    }\n",
       "</style>\n",
       "<table border=\"1\" class=\"dataframe\">\n",
       "  <thead>\n",
       "    <tr style=\"text-align: right;\">\n",
       "      <th></th>\n",
       "      <th>Region</th>\n",
       "      <th>Country</th>\n",
       "      <th>State</th>\n",
       "      <th>City</th>\n",
       "      <th>Month</th>\n",
       "      <th>Day</th>\n",
       "      <th>Year</th>\n",
       "      <th>AvgTemperature</th>\n",
       "    </tr>\n",
       "  </thead>\n",
       "  <tbody>\n",
       "  </tbody>\n",
       "</table>\n",
       "</div>"
      ],
      "text/plain": [
       "Empty DataFrame\n",
       "Columns: [Region, Country, State, City, Month, Day, Year, AvgTemperature]\n",
       "Index: []"
      ]
     },
     "execution_count": 165,
     "metadata": {},
     "output_type": "execute_result"
    }
   ],
   "source": [
    "df_nan = df_cityTemp[df_cityTemp['City'].isnull()== True]\n",
    "\n",
    "df_nan"
   ]
  },
  {
   "cell_type": "markdown",
   "id": "9f27ef8f-036d-404a-9440-fa4b203ebe2f",
   "metadata": {},
   "source": [
    "Addressing missing values"
   ]
  },
  {
   "cell_type": "code",
   "execution_count": 167,
   "id": "519ada8e-0643-4b13-aff2-40d3d9765fcf",
   "metadata": {},
   "outputs": [
    {
     "data": {
      "text/plain": [
       "(1455337, 8)"
      ]
     },
     "execution_count": 167,
     "metadata": {},
     "output_type": "execute_result"
    }
   ],
   "source": [
    "df_cityTemp.shape"
   ]
  },
  {
   "cell_type": "markdown",
   "id": "2fa569c3-2dae-44da-b17a-fde42ac418c0",
   "metadata": {},
   "source": [
    "Another way to drop Missing values"
   ]
  },
  {
   "cell_type": "code",
   "execution_count": 169,
   "id": "d58ab61d-8cef-4cb6-8d28-2c0d8e3f6ccf",
   "metadata": {},
   "outputs": [],
   "source": [
    "df_cityTemp.dropna(inplace = True)"
   ]
  },
  {
   "cell_type": "code",
   "execution_count": 170,
   "id": "9a9a538f-5a41-4beb-b009-646b7b69a77f",
   "metadata": {},
   "outputs": [
    {
     "name": "stderr",
     "output_type": "stream",
     "text": [
      "/var/folders/qx/qj_9c1q9595cg344qrssq5qr0000gq/T/ipykernel_33892/2140945170.py:2: DtypeWarning: Columns (2) have mixed types. Specify dtype option on import or set low_memory=False.\n",
      "  df_cityTemp_clean = pd.read_csv(os.path.join(cityTemp_path, 'city_temperature_cleaned.csv'))\n"
     ]
    },
    {
     "data": {
      "text/html": [
       "<div>\n",
       "<style scoped>\n",
       "    .dataframe tbody tr th:only-of-type {\n",
       "        vertical-align: middle;\n",
       "    }\n",
       "\n",
       "    .dataframe tbody tr th {\n",
       "        vertical-align: top;\n",
       "    }\n",
       "\n",
       "    .dataframe thead th {\n",
       "        text-align: right;\n",
       "    }\n",
       "</style>\n",
       "<table border=\"1\" class=\"dataframe\">\n",
       "  <thead>\n",
       "    <tr style=\"text-align: right;\">\n",
       "      <th></th>\n",
       "      <th>Region</th>\n",
       "      <th>Country</th>\n",
       "      <th>State</th>\n",
       "      <th>City</th>\n",
       "      <th>Month</th>\n",
       "      <th>Day</th>\n",
       "      <th>Year</th>\n",
       "      <th>AvgTemperature</th>\n",
       "    </tr>\n",
       "  </thead>\n",
       "  <tbody>\n",
       "    <tr>\n",
       "      <th>0</th>\n",
       "      <td>Africa</td>\n",
       "      <td>Algeria</td>\n",
       "      <td>NaN</td>\n",
       "      <td>Algiers</td>\n",
       "      <td>1</td>\n",
       "      <td>1</td>\n",
       "      <td>1995</td>\n",
       "      <td>64.2</td>\n",
       "    </tr>\n",
       "    <tr>\n",
       "      <th>1</th>\n",
       "      <td>Africa</td>\n",
       "      <td>Algeria</td>\n",
       "      <td>NaN</td>\n",
       "      <td>Algiers</td>\n",
       "      <td>1</td>\n",
       "      <td>2</td>\n",
       "      <td>1995</td>\n",
       "      <td>49.4</td>\n",
       "    </tr>\n",
       "    <tr>\n",
       "      <th>2</th>\n",
       "      <td>Africa</td>\n",
       "      <td>Algeria</td>\n",
       "      <td>NaN</td>\n",
       "      <td>Algiers</td>\n",
       "      <td>1</td>\n",
       "      <td>3</td>\n",
       "      <td>1995</td>\n",
       "      <td>48.8</td>\n",
       "    </tr>\n",
       "    <tr>\n",
       "      <th>3</th>\n",
       "      <td>Africa</td>\n",
       "      <td>Algeria</td>\n",
       "      <td>NaN</td>\n",
       "      <td>Algiers</td>\n",
       "      <td>1</td>\n",
       "      <td>4</td>\n",
       "      <td>1995</td>\n",
       "      <td>46.4</td>\n",
       "    </tr>\n",
       "    <tr>\n",
       "      <th>4</th>\n",
       "      <td>Africa</td>\n",
       "      <td>Algeria</td>\n",
       "      <td>NaN</td>\n",
       "      <td>Algiers</td>\n",
       "      <td>1</td>\n",
       "      <td>5</td>\n",
       "      <td>1995</td>\n",
       "      <td>47.9</td>\n",
       "    </tr>\n",
       "  </tbody>\n",
       "</table>\n",
       "</div>"
      ],
      "text/plain": [
       "   Region  Country State     City  Month  Day  Year  AvgTemperature\n",
       "0  Africa  Algeria   NaN  Algiers      1    1  1995            64.2\n",
       "1  Africa  Algeria   NaN  Algiers      1    2  1995            49.4\n",
       "2  Africa  Algeria   NaN  Algiers      1    3  1995            48.8\n",
       "3  Africa  Algeria   NaN  Algiers      1    4  1995            46.4\n",
       "4  Africa  Algeria   NaN  Algiers      1    5  1995            47.9"
      ]
     },
     "execution_count": 170,
     "metadata": {},
     "output_type": "execute_result"
    }
   ],
   "source": [
    "cols_list = ['Region', 'Country', 'State', 'Month', 'Day', 'Year', 'AvgTemperature']\n",
    "df_cityTemp_clean = pd.read_csv(os.path.join(cityTemp_path, 'city_temperature_cleaned.csv'))\n",
    "df_cityTemp_clean.head()"
   ]
  },
  {
   "cell_type": "markdown",
   "id": "eaadfc89-39c5-4b12-9fbc-c186be5e401d",
   "metadata": {},
   "source": [
    "Finding Duplicates"
   ]
  },
  {
   "cell_type": "code",
   "execution_count": 172,
   "id": "dcdcab3f-d8d8-4ef6-b09a-9eedd2305572",
   "metadata": {},
   "outputs": [
    {
     "data": {
      "text/html": [
       "<div>\n",
       "<style scoped>\n",
       "    .dataframe tbody tr th:only-of-type {\n",
       "        vertical-align: middle;\n",
       "    }\n",
       "\n",
       "    .dataframe tbody tr th {\n",
       "        vertical-align: top;\n",
       "    }\n",
       "\n",
       "    .dataframe thead th {\n",
       "        text-align: right;\n",
       "    }\n",
       "</style>\n",
       "<table border=\"1\" class=\"dataframe\">\n",
       "  <thead>\n",
       "    <tr style=\"text-align: right;\">\n",
       "      <th></th>\n",
       "      <th>Region</th>\n",
       "      <th>Country</th>\n",
       "      <th>State</th>\n",
       "      <th>City</th>\n",
       "      <th>Month</th>\n",
       "      <th>Day</th>\n",
       "      <th>Year</th>\n",
       "      <th>AvgTemperature</th>\n",
       "    </tr>\n",
       "  </thead>\n",
       "  <tbody>\n",
       "    <tr>\n",
       "      <th>742977</th>\n",
       "      <td>Europe</td>\n",
       "      <td>Germany</td>\n",
       "      <td>NaN</td>\n",
       "      <td>Hamburg</td>\n",
       "      <td>12</td>\n",
       "      <td>9</td>\n",
       "      <td>2007</td>\n",
       "      <td>-99.0</td>\n",
       "    </tr>\n",
       "    <tr>\n",
       "      <th>742983</th>\n",
       "      <td>Europe</td>\n",
       "      <td>Germany</td>\n",
       "      <td>NaN</td>\n",
       "      <td>Hamburg</td>\n",
       "      <td>12</td>\n",
       "      <td>15</td>\n",
       "      <td>2007</td>\n",
       "      <td>-99.0</td>\n",
       "    </tr>\n",
       "    <tr>\n",
       "      <th>742984</th>\n",
       "      <td>Europe</td>\n",
       "      <td>Germany</td>\n",
       "      <td>NaN</td>\n",
       "      <td>Hamburg</td>\n",
       "      <td>12</td>\n",
       "      <td>16</td>\n",
       "      <td>2007</td>\n",
       "      <td>-99.0</td>\n",
       "    </tr>\n",
       "    <tr>\n",
       "      <th>742990</th>\n",
       "      <td>Europe</td>\n",
       "      <td>Germany</td>\n",
       "      <td>NaN</td>\n",
       "      <td>Hamburg</td>\n",
       "      <td>12</td>\n",
       "      <td>22</td>\n",
       "      <td>2007</td>\n",
       "      <td>-99.0</td>\n",
       "    </tr>\n",
       "    <tr>\n",
       "      <th>742991</th>\n",
       "      <td>Europe</td>\n",
       "      <td>Germany</td>\n",
       "      <td>NaN</td>\n",
       "      <td>Hamburg</td>\n",
       "      <td>12</td>\n",
       "      <td>23</td>\n",
       "      <td>2007</td>\n",
       "      <td>-99.0</td>\n",
       "    </tr>\n",
       "    <tr>\n",
       "      <th>...</th>\n",
       "      <td>...</td>\n",
       "      <td>...</td>\n",
       "      <td>...</td>\n",
       "      <td>...</td>\n",
       "      <td>...</td>\n",
       "      <td>...</td>\n",
       "      <td>...</td>\n",
       "      <td>...</td>\n",
       "    </tr>\n",
       "    <tr>\n",
       "      <th>1705580</th>\n",
       "      <td>North America</td>\n",
       "      <td>US</td>\n",
       "      <td>Maryland</td>\n",
       "      <td>Washington DC</td>\n",
       "      <td>5</td>\n",
       "      <td>9</td>\n",
       "      <td>2020</td>\n",
       "      <td>45.2</td>\n",
       "    </tr>\n",
       "    <tr>\n",
       "      <th>1705581</th>\n",
       "      <td>North America</td>\n",
       "      <td>US</td>\n",
       "      <td>Maryland</td>\n",
       "      <td>Washington DC</td>\n",
       "      <td>5</td>\n",
       "      <td>10</td>\n",
       "      <td>2020</td>\n",
       "      <td>50.2</td>\n",
       "    </tr>\n",
       "    <tr>\n",
       "      <th>1705582</th>\n",
       "      <td>North America</td>\n",
       "      <td>US</td>\n",
       "      <td>Maryland</td>\n",
       "      <td>Washington DC</td>\n",
       "      <td>5</td>\n",
       "      <td>11</td>\n",
       "      <td>2020</td>\n",
       "      <td>56.1</td>\n",
       "    </tr>\n",
       "    <tr>\n",
       "      <th>1705583</th>\n",
       "      <td>North America</td>\n",
       "      <td>US</td>\n",
       "      <td>Maryland</td>\n",
       "      <td>Washington DC</td>\n",
       "      <td>5</td>\n",
       "      <td>12</td>\n",
       "      <td>2020</td>\n",
       "      <td>52.5</td>\n",
       "    </tr>\n",
       "    <tr>\n",
       "      <th>1705584</th>\n",
       "      <td>North America</td>\n",
       "      <td>US</td>\n",
       "      <td>Maryland</td>\n",
       "      <td>Washington DC</td>\n",
       "      <td>5</td>\n",
       "      <td>13</td>\n",
       "      <td>2020</td>\n",
       "      <td>53.4</td>\n",
       "    </tr>\n",
       "  </tbody>\n",
       "</table>\n",
       "<p>20715 rows × 8 columns</p>\n",
       "</div>"
      ],
      "text/plain": [
       "                Region  Country     State           City  Month  Day  Year  \\\n",
       "742977          Europe  Germany       NaN        Hamburg     12    9  2007   \n",
       "742983          Europe  Germany       NaN        Hamburg     12   15  2007   \n",
       "742984          Europe  Germany       NaN        Hamburg     12   16  2007   \n",
       "742990          Europe  Germany       NaN        Hamburg     12   22  2007   \n",
       "742991          Europe  Germany       NaN        Hamburg     12   23  2007   \n",
       "...                ...      ...       ...            ...    ...  ...   ...   \n",
       "1705580  North America       US  Maryland  Washington DC      5    9  2020   \n",
       "1705581  North America       US  Maryland  Washington DC      5   10  2020   \n",
       "1705582  North America       US  Maryland  Washington DC      5   11  2020   \n",
       "1705583  North America       US  Maryland  Washington DC      5   12  2020   \n",
       "1705584  North America       US  Maryland  Washington DC      5   13  2020   \n",
       "\n",
       "         AvgTemperature  \n",
       "742977            -99.0  \n",
       "742983            -99.0  \n",
       "742984            -99.0  \n",
       "742990            -99.0  \n",
       "742991            -99.0  \n",
       "...                 ...  \n",
       "1705580            45.2  \n",
       "1705581            50.2  \n",
       "1705582            56.1  \n",
       "1705583            52.5  \n",
       "1705584            53.4  \n",
       "\n",
       "[20715 rows x 8 columns]"
      ]
     },
     "execution_count": 172,
     "metadata": {},
     "output_type": "execute_result"
    }
   ],
   "source": [
    "df_dups = df_cityTemp_clean[df_cityTemp_clean.duplicated()]\n",
    "\n",
    "df_dups"
   ]
  },
  {
   "cell_type": "markdown",
   "id": "4a4e2bbc-df21-4659-af0f-e3800cf49566",
   "metadata": {},
   "source": [
    "Addressing Duplicates"
   ]
  },
  {
   "cell_type": "code",
   "execution_count": 174,
   "id": "265555a3-cf07-41e7-83e5-85b3546a9e02",
   "metadata": {},
   "outputs": [
    {
     "data": {
      "text/plain": [
       "(2906327, 8)"
      ]
     },
     "execution_count": 174,
     "metadata": {},
     "output_type": "execute_result"
    }
   ],
   "source": [
    "df_cityTemp_clean.shape"
   ]
  },
  {
   "cell_type": "code",
   "execution_count": 175,
   "id": "70355ac0-7e67-46f2-864d-0b21ebb921d6",
   "metadata": {},
   "outputs": [
    {
     "data": {
      "text/plain": [
       "(2885612, 8)"
      ]
     },
     "execution_count": 175,
     "metadata": {},
     "output_type": "execute_result"
    }
   ],
   "source": [
    "df_cityTemp_clean_no_dups = df_cityTemp_clean.drop_duplicates()\n",
    "df_cityTemp_clean_no_dups.shape"
   ]
  }
 ],
 "metadata": {
  "kernelspec": {
   "display_name": "Python [conda env:base] *",
   "language": "python",
   "name": "conda-base-py"
  },
  "language_info": {
   "codemirror_mode": {
    "name": "ipython",
    "version": 3
   },
   "file_extension": ".py",
   "mimetype": "text/x-python",
   "name": "python",
   "nbconvert_exporter": "python",
   "pygments_lexer": "ipython3",
   "version": "3.12.7"
  }
 },
 "nbformat": 4,
 "nbformat_minor": 5
}
